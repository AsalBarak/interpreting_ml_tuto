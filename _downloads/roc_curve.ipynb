{
  "nbformat_minor": 0, 
  "nbformat": 4, 
  "cells": [
    {
      "execution_count": null, 
      "cell_type": "code", 
      "source": [
        "%matplotlib inline"
      ], 
      "outputs": [], 
      "metadata": {
        "collapsed": false
      }
    }, 
    {
      "source": [
        "\nROC curves on digit predictions\n================================\n\n\n"
      ], 
      "cell_type": "markdown", 
      "metadata": {}
    }, 
    {
      "execution_count": null, 
      "cell_type": "code", 
      "source": [
        "from sklearn import datasets, ensemble, metrics, model_selection, dummy\nimport matplotlib.pyplot as plt\n\ndigits = datasets.load_digits()\n\n# First we work only on sevens:\nsevens = (digits.target == 7)\n\nclassifier = ensemble.RandomForestClassifier()\nmost_frequent = dummy.DummyClassifier(strategy='most_frequent')\n\nX_train, X_test, y_train, y_test = model_selection.train_test_split(\n    digits.data, sevens, random_state=0)\n\ny_score = classifier.fit(X_train, y_train).predict_proba(X_test)\nmost_frequent_score = most_frequent.fit(X_train,\n                                        y_train).predict_proba(X_test)\n\nfpr, tpr, _ = metrics.roc_curve(y_test, y_score[:, 1])\nroc_auc = metrics.auc(fpr, tpr)\n\nfpr_dummy, tpr_dummy, _ = metrics.roc_curve(y_test,\n                                            most_frequent_score[:, 1])\nroc_auc_dummy = metrics.auc(fpr_dummy, tpr_dummy)\n\nplt.figure(figsize=(3, 3))\nlw = 2\nplt.plot(fpr, tpr, color='darkorange',\n         lw=lw, label='RandomForestClassifier\\n(area = %0.2f)' % roc_auc)\nplt.plot(fpr_dummy, tpr_dummy, color='.5',\n         lw=lw, label='Dummy\\n(area = %0.2f)' % roc_auc_dummy)\nplt.xlim([0.0, 1.0])\nplt.ylim([0.0, 1.05])\nplt.xlabel('False Positive Rate')\nplt.ylabel('True Positive Rate')\nplt.title('Receiver operating characteristic')\nplt.legend(loc=\"lower left\", title='ROC curve')\nplt.tight_layout()\nplt.show()"
      ], 
      "outputs": [], 
      "metadata": {
        "collapsed": false
      }
    }
  ], 
  "metadata": {
    "kernelspec": {
      "display_name": "Python 2", 
      "name": "python2", 
      "language": "python"
    }, 
    "language_info": {
      "mimetype": "text/x-python", 
      "nbconvert_exporter": "python", 
      "name": "python", 
      "file_extension": ".py", 
      "version": "2.7.15", 
      "pygments_lexer": "ipython2", 
      "codemirror_mode": {
        "version": 2, 
        "name": "ipython"
      }
    }
  }
}