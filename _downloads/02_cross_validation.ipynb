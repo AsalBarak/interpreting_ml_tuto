{
 "cells": [
  {
   "cell_type": "code",
   "execution_count": 1,
   "metadata": {},
   "outputs": [],
   "source": [
    "%matplotlib inline"
   ]
  },
  {
   "cell_type": "markdown",
   "metadata": {},
   "source": [
    "\n",
    "Cross-validation: some gotchas\n",
    "===============================\n",
    "\n",
    "Cross-validation is the ubiquitous test of a machine learning model. Yet\n",
    "many things can go wrong.\n",
    "\n",
    "\n"
   ]
  },
  {
   "cell_type": "markdown",
   "metadata": {},
   "source": [
    "The uncertainty of measured accuracy\n",
    "------------------------------------\n",
    "\n",
    "The first thing to have in mind is that the results of a\n",
    "cross-validation are noisy estimate of the real prediction accuracy\n",
    "\n",
    "Let us create a simple artificial data\n",
    "\n"
   ]
  },
  {
   "cell_type": "code",
   "execution_count": 10,
   "metadata": {},
   "outputs": [],
   "source": [
    "from sklearn import datasets, discriminant_analysis\n",
    "import numpy as np\n",
    "np.random.seed(0)\n",
    "data, target = datasets.make_blobs(centers=[(0, 0), (0, 1)],\n",
    "                                   n_samples=500)\n",
    "classifier = discriminant_analysis.LinearDiscriminantAnalysis()"
   ]
  },
  {
   "cell_type": "markdown",
   "metadata": {},
   "source": [
    "One cross-validation gives spread out measures\n",
    "\n"
   ]
  },
  {
   "cell_type": "code",
   "execution_count": 3,
   "metadata": {},
   "outputs": [
    {
     "name": "stdout",
     "output_type": "stream",
     "text": [
      "[ 0.64705882  0.67647059  0.84375   ]\n"
     ]
    }
   ],
   "source": [
    "from sklearn.model_selection import cross_val_score\n",
    "print(cross_val_score(classifier, data, target))"
   ]
  },
  {
   "cell_type": "markdown",
   "metadata": {},
   "source": [
    "What if we try different random shuffles of the data?\n",
    "\n"
   ]
  },
  {
   "cell_type": "code",
   "execution_count": 4,
   "metadata": {},
   "outputs": [
    {
     "name": "stdout",
     "output_type": "stream",
     "text": [
      "[ 0.76470588  0.70588235  0.65625   ]\n",
      "[ 0.70588235  0.67647059  0.75      ]\n",
      "[ 0.73529412  0.64705882  0.71875   ]\n",
      "[ 0.70588235  0.58823529  0.8125    ]\n",
      "[ 0.67647059  0.73529412  0.71875   ]\n",
      "[ 0.70588235  0.64705882  0.75      ]\n",
      "[ 0.67647059  0.67647059  0.71875   ]\n",
      "[ 0.70588235  0.61764706  0.8125    ]\n",
      "[ 0.76470588  0.76470588  0.59375   ]\n",
      "[ 0.76470588  0.61764706  0.625     ]\n"
     ]
    }
   ],
   "source": [
    "from sklearn import utils\n",
    "for _ in range(10):\n",
    "    data, target = utils.shuffle(data, target)\n",
    "    print(cross_val_score(classifier, data, target))"
   ]
  },
  {
   "cell_type": "markdown",
   "metadata": {},
   "source": [
    "This should not be surprising: if the classification rate is p, the\n",
    "observed distribution of correct classifications on a set of size\n",
    "follows a binomial distribution\n",
    "\n"
   ]
  },
  {
   "cell_type": "code",
   "execution_count": 5,
   "metadata": {},
   "outputs": [],
   "source": [
    "from scipy import stats\n",
    "n = len(data)\n",
    "distrib = stats.binom(n=n, p=.7)"
   ]
  },
  {
   "cell_type": "markdown",
   "metadata": {},
   "source": [
    "We can plot it:\n",
    "\n"
   ]
  },
  {
   "cell_type": "code",
   "execution_count": 6,
   "metadata": {},
   "outputs": [
    {
     "data": {
      "text/plain": [
       "[<matplotlib.lines.Line2D at 0x7fb80b3f16d0>]"
      ]
     },
     "execution_count": 6,
     "metadata": {},
     "output_type": "execute_result"
    },
    {
     "data": {
      "image/png": "[encoded data removed]",
      "text/plain": [
       "<matplotlib.figure.Figure at 0x7fb80b498350>"
      ]
     },
     "metadata": {},
     "output_type": "display_data"
    }
   ],
   "source": [
    "from matplotlib import pyplot as plt\n",
    "plt.figure(figsize=(6, 3))\n",
    "plt.plot(np.linspace(0, 1, n), distrib.pmf(np.arange(0, n)))"
   ]
  },
  {
   "cell_type": "markdown",
   "metadata": {},
   "source": [
    "It is wide, because there are not that many samples to mesure the error\n",
    "upon: this is a small dataset.\n",
    "\n",
    "We can look at the interval in which 95% of the observed accuracy lies\n",
    "for different sample sizes\n",
    "\n"
   ]
  },
  {
   "cell_type": "code",
   "execution_count": 7,
   "metadata": {},
   "outputs": [
    {
     "name": "stdout",
     "output_type": "stream",
     "text": [
      "Size:      100  | interval: 18.0%\n",
      "Size:     1000  | interval: 5.7%\n",
      "Size:    10000  | interval: 1.8%\n",
      "Size:   100000  | interval: 0.568%\n",
      "Size:  1000000  | interval: 0.1796%\n"
     ]
    }
   ],
   "source": [
    "for n in [100, 1000, 10000, 100000, 1000000]:\n",
    "    distrib = stats.binom(n, .7)\n",
    "    interval = (distrib.isf(.025) - distrib.isf(.975)) / n\n",
    "    print(\"Size: {0: 8}  | interval: {1}%\".format(n, 100 * interval))"
   ]
  },
  {
   "cell_type": "code",
   "execution_count": 13,
   "metadata": {},
   "outputs": [
    {
     "name": "stdout",
     "output_type": "stream",
     "text": [
      "[ 0.68  0.88  0.68  0.76  0.74  0.7   0.66  0.7   0.62  0.6   0.78  0.76\n",
      "  0.78  0.78  0.76  0.78  0.7   0.6   0.7   0.74  0.7   0.64  0.6   0.62\n",
      "  0.76  0.7   0.56  0.74  0.66  0.72  0.7   0.7   0.62  0.68  0.56  0.58\n",
      "  0.66  0.74  0.66  0.66  0.58  0.7   0.66  0.64  0.76  0.66  0.62  0.6\n",
      "  0.74  0.6   0.74  0.7   0.6   0.72  0.78  0.8   0.74  0.66  0.66  0.82\n",
      "  0.82  0.72  0.68  0.8   0.82  0.68  0.66  0.68  0.82  0.72  0.68  0.76\n",
      "  0.64  0.66  0.58  0.76  0.7   0.72  0.7   0.72  0.68  0.64  0.72  0.78\n",
      "  0.66  0.56  0.76  0.6   0.74  0.64  0.64  0.62  0.72  0.66  0.76  0.64\n",
      "  0.74  0.74  0.84  0.72  0.64  0.78  0.72  0.72  0.66  0.6   0.62  0.66\n",
      "  0.74  0.68  0.66  0.64  0.68  0.68  0.66  0.76  0.66  0.74  0.7   0.7\n",
      "  0.6   0.72  0.6   0.62  0.54  0.66  0.74  0.74  0.7   0.74  0.78  0.74\n",
      "  0.66  0.74  0.7   0.64  0.66  0.76  0.74  0.76  0.7   0.74  0.66  0.76\n",
      "  0.58  0.68  0.58  0.76  0.72  0.62  0.68  0.72  0.64  0.56  0.76  0.68\n",
      "  0.74  0.64  0.7   0.7   0.62  0.78  0.66  0.66  0.46  0.7   0.64  0.72\n",
      "  0.58  0.6   0.66  0.72  0.66  0.6   0.74  0.7   0.7   0.74  0.68  0.68\n",
      "  0.68  0.72  0.68  0.78  0.56  0.74  0.74  0.68  0.76  0.7   0.68  0.76\n",
      "  0.62  0.66  0.62  0.74  0.64  0.7   0.68  0.72  0.8   0.64  0.68  0.74\n",
      "  0.62  0.66  0.6   0.7   0.82  0.62  0.76  0.7   0.62  0.68  0.72  0.66\n",
      "  0.7   0.64  0.64  0.78  0.72  0.66  0.64  0.72  0.64  0.74  0.74  0.74\n",
      "  0.74  0.74  0.78  0.64  0.82  0.72  0.58  0.62  0.74  0.84  0.66  0.54\n",
      "  0.64  0.74  0.66  0.74  0.66  0.7   0.68  0.72  0.64  0.74  0.64  0.68\n",
      "  0.72  0.76  0.62  0.7   0.8   0.78  0.68  0.76  0.66  0.72  0.68  0.68\n",
      "  0.72  0.76  0.76  0.76  0.74  0.64  0.7   0.7   0.7   0.52  0.64  0.68\n",
      "  0.7   0.72  0.68  0.7   0.62  0.72  0.74  0.78  0.64  0.68  0.74  0.6\n",
      "  0.76  0.66  0.7   0.64  0.64  0.72  0.68  0.66  0.82  0.6   0.8   0.72]\n"
     ]
    }
   ],
   "source": [
    "from sklearn import model_selection\n",
    "cv = model_selection.ShuffleSplit(n_splits=300)\n",
    "scores = cross_val_score(classifier, data, target,\n",
    "                         cv=cv)\n",
    "print(scores)"
   ]
  },
  {
   "cell_type": "code",
   "execution_count": 15,
   "metadata": {},
   "outputs": [
    {
     "data": {
      "text/plain": [
       "(array([  1.,   3.,  12.,  32.,  64.,  67.,  68.,  38.,  12.,   3.]),\n",
       " array([ 0.46 ,  0.502,  0.544,  0.586,  0.628,  0.67 ,  0.712,  0.754,\n",
       "         0.796,  0.838,  0.88 ]),\n",
       " <a list of 10 Patch objects>)"
      ]
     },
     "execution_count": 15,
     "metadata": {},
     "output_type": "execute_result"
    },
    {
     "data": {
      "image/png": "[encoded data removed]",
      "text/plain": [
       "<matplotlib.figure.Figure at 0x7fb80b225690>"
      ]
     },
     "metadata": {},
     "output_type": "display_data"
    }
   ],
   "source": [
    "plt.hist(scores)"
   ]
  },
  {
   "cell_type": "markdown",
   "metadata": {},
   "source": [
    "At 100 000 samples, 5% of the observed classification accuracy still\n",
    "fall more than .5% away of the true rate.\n",
    "\n",
    "**Keep in mind that cross-val is a noisy measure**\n",
    "\n",
    "Importantly, the variance across folds is not a good measure of this\n",
    "error, as the different data folds are not independent. For instance,\n",
    "doing many random splits will can reduce the variance arbitrarily, but\n",
    "does not provide actually new data points\n",
    "\n"
   ]
  },
  {
   "cell_type": "markdown",
   "metadata": {},
   "source": [
    "Measuring baselines and chance\n",
    "-------------------------------\n",
    "\n",
    "Because of class imbalances, or confounding effects, it is easy to get\n",
    "it wrong it terms of what constitutes chances. There are two approaches\n",
    "to measure peformances of baselines or chance:\n",
    "\n",
    "Let's go back to simple generated data:\n",
    "\n"
   ]
  },
  {
   "cell_type": "code",
   "execution_count": null,
   "metadata": {},
   "outputs": [],
   "source": [
    "data, target = datasets.make_blobs(centers=[(0, 0), (0, 1)])"
   ]
  },
  {
   "cell_type": "markdown",
   "metadata": {},
   "source": [
    "**DummyClassifier** The dummy classifier:\n",
    ":class:`sklearn.dummy.DummyClassifier`, with different strategies to\n",
    "provide simple baselines\n",
    "\n"
   ]
  },
  {
   "cell_type": "code",
   "execution_count": null,
   "metadata": {},
   "outputs": [],
   "source": [
    "from sklearn.dummy import DummyClassifier\n",
    "dummy = DummyClassifier(strategy=\"stratified\")\n",
    "print(cross_val_score(dummy, data, target))"
   ]
  },
  {
   "cell_type": "markdown",
   "metadata": {},
   "source": [
    "**Chance level** To measure actual chance, the most robust approach is\n",
    "to use permutations:\n",
    ":func:`sklearn.model_selection.permutation_test_score`, which is used\n",
    "as cross_val_score\n",
    "\n"
   ]
  },
  {
   "cell_type": "code",
   "execution_count": null,
   "metadata": {},
   "outputs": [],
   "source": [
    "from sklearn.model_selection import permutation_test_score\n",
    "score, permuted_scores, p_value = permutation_test_score(classifier, data, target)\n",
    "print(\"Classifier score: {0},\\np value: {1}\\nPermutation scores {2}\"\n",
    "        .format(score, p_value, permuted_scores))"
   ]
  },
  {
   "cell_type": "markdown",
   "metadata": {},
   "source": [
    "Cross-validation with non iid data\n",
    "-----------------------------------\n",
    "\n",
    "Stock market: time series\n",
    "...........................\n",
    "\n",
    "Download and load the data\n",
    "~~~~~~~~~~~~~~~~~~~~~~~~~~~\n",
    "\n",
    "\n"
   ]
  },
  {
   "cell_type": "code",
   "execution_count": null,
   "metadata": {},
   "outputs": [],
   "source": [
    "import pandas as pd\n",
    "import os\n",
    "# Python 2 vs Python 3:\n",
    "try:\n",
    "    from urllib.request import urlretrieve\n",
    "except ImportError:\n",
    "    from urllib import urlretrieve\n",
    "\n",
    "symbols = {'TOT': 'Total', 'XOM': 'Exxon', 'CVX': 'Chevron',\n",
    "           'COP': 'ConocoPhillips', 'VLO': 'Valero Energy'}\n",
    "\n",
    "quotes = pd.DataFrame()\n",
    "\n",
    "for symbol, name in symbols.items():\n",
    "    url = ('https://raw.githubusercontent.com/scikit-learn/examples-data/'\n",
    "           'master/financial-data/{}.csv')\n",
    "    filename = \"{}.csv\".format(symbol)\n",
    "    if not os.path.exists(filename):\n",
    "        urlretrieve(url.format(symbol), filename)\n",
    "    this_quote = pd.read_csv(filename)\n",
    "    quotes[name] = this_quote['open']"
   ]
  },
  {
   "cell_type": "markdown",
   "metadata": {},
   "source": [
    "Predict 'Chevron' from the others\n",
    "\n"
   ]
  },
  {
   "cell_type": "code",
   "execution_count": null,
   "metadata": {},
   "outputs": [],
   "source": [
    "from sklearn import linear_model, model_selection, ensemble\n",
    "cv = model_selection.ShuffleSplit(random_state=0)\n",
    "print(cross_val_score(linear_model.RidgeCV(),\n",
    "                      quotes.drop(columns=['Chevron']),\n",
    "                      quotes['Chevron'],\n",
    "                      cv=cv).mean())"
   ]
  },
  {
   "cell_type": "markdown",
   "metadata": {},
   "source": [
    "Is this a robust prediction?\n",
    "\n",
    "Does it cary over across quarters?\n",
    "\n"
   ]
  },
  {
   "cell_type": "code",
   "execution_count": null,
   "metadata": {},
   "outputs": [],
   "source": [
    "quarters = pd.to_datetime(this_quote['date']).dt.to_period('Q')\n",
    "cv = model_selection.LeaveOneGroupOut()\n",
    "\n",
    "print(cross_val_score(linear_model.RidgeCV(),\n",
    "                      quotes.drop(columns=['Chevron']),\n",
    "                      quotes['Chevron'],\n",
    "                      cv=cv, groups=quarters).mean())"
   ]
  },
  {
   "cell_type": "markdown",
   "metadata": {},
   "source": [
    "The problem that we are facing here is the auto-correlation in the\n",
    "data: these datasets are **time-series**.\n",
    "\n"
   ]
  },
  {
   "cell_type": "code",
   "execution_count": null,
   "metadata": {},
   "outputs": [],
   "source": [
    "quotes_with_dates = pd.concat((quotes, this_quote['date']),\n",
    "                              axis=1).set_index('date')\n",
    "quotes_with_dates.plot()"
   ]
  },
  {
   "cell_type": "markdown",
   "metadata": {},
   "source": [
    "If the goal is to do forecasting, than prediction should be done in the\n",
    "future, for instance using\n",
    ":class:`sklearn.model_selection.TimeSeriesSplit`\n",
    "\n",
    "Can we do forecasting: predict the future?\n",
    "\n"
   ]
  },
  {
   "cell_type": "code",
   "execution_count": null,
   "metadata": {},
   "outputs": [],
   "source": [
    "cv = model_selection.TimeSeriesSplit(n_splits=quarters.nunique())\n",
    "\n",
    "print(cross_val_score(linear_model.RidgeCV(),\n",
    "                      quotes.drop(columns=['Chevron']),\n",
    "                      quotes['Chevron'],\n",
    "                      cv=cv, groups=quarters).mean())"
   ]
  },
  {
   "cell_type": "markdown",
   "metadata": {},
   "source": [
    "No. This prediction is abysmal\n",
    "\n"
   ]
  },
  {
   "cell_type": "markdown",
   "metadata": {},
   "source": [
    "School grades: repeated measures\n",
    ".................................\n",
    "\n",
    "Let us look at another dependency structure across samples: repeated\n",
    "measures. This is often often in longitudinal data. Here we are looking\n",
    "at grades of school students, across the years.\n",
    "\n",
    "Download and load the data\n",
    "~~~~~~~~~~~~~~~~~~~~~~~~~~~\n",
    "\n",
    "Download some data on grades across several schools (centers)\n",
    "\n",
    "The junior school data, originally from http://www.bristol.ac.uk/cmm/learning/support/datasets/\n",
    "\n"
   ]
  },
  {
   "cell_type": "code",
   "execution_count": null,
   "metadata": {},
   "outputs": [],
   "source": [
    "if not os.path.exists('exams.csv.gz'):\n",
    "    # Download the file if it is not present\n",
    "    urlretrieve('https://raw.githubusercontent.com/GaelVaroquaux/interpreting_ml_tuto/blob/master/src/01_how_well/exams.csv.gz',\n",
    "                filename)\n",
    "exams = pd.read_csv('exams.csv.gz')\n",
    "\n",
    "# Select data for students present all three years\n",
    "continuing_students = exams.StudentID.value_counts()\n",
    "continuing_students = continuing_students[continuing_students > 2].index\n",
    "exams = exams[exams.StudentID.isin(continuing_students)]"
   ]
  },
  {
   "cell_type": "markdown",
   "metadata": {},
   "source": [
    "Visualized factor of grades\n",
    "~~~~~~~~~~~~~~~~~~~~~~~~~~~\n",
    "\n",
    "Grade at tests in in exams depend on socio-economic status, year at\n",
    "school, ...\n",
    "\n"
   ]
  },
  {
   "cell_type": "code",
   "execution_count": null,
   "metadata": {},
   "outputs": [],
   "source": [
    "import seaborn as sns\n",
    "g = sns.PairGrid(exams.drop(columns=['StudentID']),\n",
    "                 diag_sharey=False)\n",
    "g.map_lower(sns.kdeplot)\n",
    "g.map_upper(plt.scatter, s=2)\n",
    "g.map_diag(sns.kdeplot, lw=3)"
   ]
  },
  {
   "cell_type": "markdown",
   "metadata": {},
   "source": [
    "Predicting grades in maths\n",
    "~~~~~~~~~~~~~~~~~~~~~~~~~~~\n",
    "\n",
    "Can we predict test grades in maths from demographics (ie, not from\n",
    "other grades)?\n",
    "\n"
   ]
  },
  {
   "cell_type": "code",
   "execution_count": null,
   "metadata": {},
   "outputs": [],
   "source": [
    "# A bit of feature engineering to get a numerical matrix (easily done\n",
    "# with the ColumnTransformer in scikit-learn >= 0.20)\n",
    "X = exams.drop(columns=['StudentID', 'Maths', 'Ravens', 'English'])\n",
    "# Encode gender as an integer variables\n",
    "X['Gender'] = X['Gender'] == 'Girl'\n",
    "# One-hot encode social class\n",
    "X = pd.get_dummies(X, drop_first=True)\n",
    "y = exams['Maths']\n",
    "\n",
    "from sklearn import ensemble\n",
    "print(cross_val_score(ensemble.GradientBoostingRegressor(), X, y,\n",
    "                      cv=10).mean())"
   ]
  },
  {
   "cell_type": "markdown",
   "metadata": {},
   "source": [
    "We get can predict!\n",
    "\n",
    "But there is one caveat: are we simply learning to recognive students\n",
    "across the years? There is many implicit informations about students:\n",
    "notably in the school ID and the class ID.\n",
    "\n",
    "To test for this, we can make sure that we have different students in\n",
    "the train and the test set\n",
    "\n"
   ]
  },
  {
   "cell_type": "code",
   "execution_count": null,
   "metadata": {},
   "outputs": [],
   "source": [
    "from sklearn import model_selection\n",
    "cv = model_selection.GroupKFold(10)\n",
    "\n",
    "print(cross_val_score(ensemble.GradientBoostingRegressor(), X, y,\n",
    "                      cv=cv, groups=exams['StudentID']).mean())"
   ]
  },
  {
   "cell_type": "markdown",
   "metadata": {},
   "source": [
    "It works better!\n",
    "\n",
    "The classifier learns better to generalize, probably by learning\n",
    "stronger invariances from the repeated measures on the students\n",
    "\n",
    "Summary\n",
    ".......\n",
    "\n",
    "Samples often have a dependency structure, such a with time-series, or\n",
    "with repeated measures. To have a meaningful measure of prediction\n",
    "error, the link between the train and the test set must match the\n",
    "important one for the application. In time-series prediction, it must\n",
    "be in the future. To learn a predictor of the success of an individual\n",
    "from demographics, it might be more relevant to predict across\n",
    "individuals. If the variance across individuals is much larger than the\n",
    "variance across repeated measurement, as in many biomedical\n",
    "applications, the choice of cross-validation strategy may make a huge\n",
    "difference.\n",
    "\n"
   ]
  }
 ],
 "metadata": {
  "kernelspec": {
   "display_name": "Python 2",
   "language": "python",
   "name": "python2"
  },
  "language_info": {
   "codemirror_mode": {
    "name": "ipython",
    "version": 2
   },
   "file_extension": ".py",
   "mimetype": "text/x-python",
   "name": "python",
   "nbconvert_exporter": "python",
   "pygments_lexer": "ipython2",
   "version": "2.7.15rc1"
  }
 },
 "nbformat": 4,
 "nbformat_minor": 1
}
